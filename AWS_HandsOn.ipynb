{
 "cells": [
  {
   "cell_type": "markdown",
   "metadata": {},
   "source": [
    "# AWS Deployment Pipeline"
   ]
  },
  {
   "cell_type": "markdown",
   "metadata": {},
   "source": [
    "## 1. What is AWS Lambda?\n",
    "\n",
    "AWS Lambda is a **serverless compute service** that runs your code in response to events and automatically manages the underlying compute resources for you. You can use AWS Lambda to extend other AWS services with custom logic, or create your own back-end services that operate at AWS scale, performance, and security.\n",
    "\n",
    "### Key Features\n",
    "\n",
    "**a. Extend other AWS services with custom logic**\n",
    "\n",
    "- AWS Lambda allows you to add custom logic to AWS resources such as Amazon S3 buckets and Amazon DynamoDB tables, making it easy to apply compute to data as it is enters or moves through the cloud.\n",
    "\n",
    "**b. Bring your own code**\n",
    "\n",
    "- With AWS Lambda, there are no new languages, tools, or frameworks to learn. You can use any third party library, even native ones. AWS Lambda supports Java, Node.js, C#, and Python code, with support for other languages coming in the future.\n",
    "\n",
    "**c. Completely automated administration**\n",
    "\n",
    "- AWS Lambda manages all the infrastructure to run your code on highly available, fault-tolerant infrastructure, freeing you to focus on building differentiated back-end services. With Lambda, you never have to update the underlying OS when a patch is released, or worry about resizing or adding new servers as your usage grows. AWS Lambda seamlessly deploys your code, does all the administration, maintenance, and security patches, and provides built-in logging and monitoring through Amazon CloudWatch.\n",
    "\n",
    "**d. Built-in fault tolerance**\n",
    "\n",
    "- Lambda has built-in fault tolerance. AWS Lambda maintains compute capacity across multiple Availability Zones in each region to help protect your code against individual machine or data center facility failures. Both AWS Lambda and the functions running on the service provide predictable and reliable operational performance. AWS Lambda is designed to provide high availability for both the service itself and for the functions it operates. There are no maintenance windows or scheduled downtimes.\n",
    "\n",
    "\n",
    "**e. Automatic scaling**\n",
    "\n",
    "- AWS Lambda invokes your code only when needed and automatically scales to support the rate of incoming requests without requiring you to configure anything.\n",
    "\n",
    "- There is no limit to the number of requests your code can handle. AWS Lambda typically starts running your code within milliseconds of an event, and since Lambda scales automatically, the performance remains consistently high as the frequency of events increases. Since your code is stateless, Lambda can start as many instances of it as needed without lengthy deployment and configuration delays.\n",
    "\n",
    "\n",
    "**f. Integrated security model**\n",
    "\n",
    "- AWS Lambda allows your code to securely access other AWS services through its built-in AWS SDK and integration with AWS Identity and Access Management (IAM).\n",
    "\n",
    "- AWS Lambda runs your code within a VPC by default. You can optionally also configure AWS Lambda to access resources behind your own VPC, allowing you to leverage custom security groups and network access control lists to provide your Lambda functions access to your resources within a VPC.\n",
    "\n",
    "- With AWS Lambda you pay only for the requests served and the compute time required to run your code. Billing is metered in increments of 100 milliseconds, making it cost-effective and easy to scale automatically from a few requests per day to thousands per second.\n",
    "\n",
    "**g. Flexible resource model**\n",
    "\n",
    "- You choose the amount of memory you want to allocate to your functions and AWS Lambda allocates proportional CPU power, network bandwidth, and disk I/O."
   ]
  },
  {
   "cell_type": "markdown",
   "metadata": {},
   "source": [
    "## 2. How can Lambda interact with other services programatically?\n",
    "\n",
    "**a. awscli**\n",
    "\n",
    "CLI tool to interact with various services provided with AWS\n",
    "\n",
    "**b. Boto3 Usage**\n",
    "\n",
    "Boto is the Amazon Web Services (AWS) SDK for Python, which allows Python developers to write software that makes use of Amazon services like S3 and EC2.\n",
    "\n",
    "Documentation link - [BOTO3](https://boto3.amazonaws.com/v1/documentation/api/latest/index.html)\n",
    "\n",
    "**c. IAM Roles**\n",
    "\n",
    "- An IAM role is similar to a user, in that it is an AWS identity with permission policies that determine what the identity can and cannot do in AWS. \n",
    "\n",
    "- However, instead of being uniquely associated with one person, a role is intended to be assumable by anyone who needs it. Also, a role does not have standard long-term credentials (password or access keys) associated with it.\n",
    "\n",
    "- Instead, if a user assumes a role, temporary security credentials are created dynamically and provided to the user."
   ]
  },
  {
   "cell_type": "markdown",
   "metadata": {},
   "source": [
    "## 3. What is CloudWatch?\n",
    "\n",
    "- Amazon CloudWatch is a monitoring and management service built for developers, system operators, site reliability engineers (SRE), and IT managers. \n",
    "\n",
    "- CloudWatch provides you with data and actionable insights to monitor your applications, understand and respond to system-wide performance changes, optimize resource utilization, and get a unified view of operational health.\n",
    "\n",
    "- CloudWatch collects monitoring and operational data in the form of logs, metrics, and events, providing you with a unified view of AWS resources, applications and services that run on AWS, and on-premises servers. \n",
    "\n",
    "### How can CloudWatch trigger Lambda?\n",
    "\n",
    "- CW Events\n",
    "- Write Lambda Function to count objects in a s3 bucket?\n",
    "- Exercise - Copy objects from one bucket to another\n"
   ]
  },
  {
   "cell_type": "markdown",
   "metadata": {},
   "source": [
    "## 4. What is AWS EMR?\n",
    "\n",
    "- Amazon EMR provides a managed Hadoop framework that makes it easy, fast, and cost-effective to process vast amounts of data across dynamically scalable Amazon EC2 instances. You can also run other popular distributed frameworks such as Apache Spark, HBase, Presto, and Flink in Amazon EMR, and interact with data in other AWS data stores such as Amazon S3 and Amazon DynamoDB.\n",
    "\n",
    "- Amazon EMR securely and reliably handles a broad set of big data use cases, including log analysis, web indexing, data transformations (ETL), machine learning, financial analysis, scientific simulation, and bioinformatics.\n",
    "\n",
    "- Run a Spark Job with AWS EMR\n",
    "\n",
    "- AWS EMR features: Auto Scaling, Auto termination, Logs to s3, EMR events, Handles hardware failure\n",
    "\n",
    "- Boto3: Run Job Flow call"
   ]
  },
  {
   "cell_type": "code",
   "execution_count": null,
   "metadata": {},
   "outputs": [],
   "source": []
  }
 ],
 "metadata": {
  "kernelspec": {
   "display_name": "Python 2",
   "language": "python",
   "name": "python2"
  },
  "language_info": {
   "codemirror_mode": {
    "name": "ipython",
    "version": 2
   },
   "file_extension": ".py",
   "mimetype": "text/x-python",
   "name": "python",
   "nbconvert_exporter": "python",
   "pygments_lexer": "ipython2",
   "version": "2.7.12"
  }
 },
 "nbformat": 4,
 "nbformat_minor": 2
}
